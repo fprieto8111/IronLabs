{
 "cells": [
  {
   "cell_type": "code",
   "execution_count": 151,
   "id": "05d9bdde",
   "metadata": {},
   "outputs": [
    {
     "data": {
      "text/plain": [
       "array([0., 0., 0., 0., 0., 0., 0., 0., 0., 0.])"
      ]
     },
     "execution_count": 151,
     "metadata": {},
     "output_type": "execute_result"
    }
   ],
   "source": [
    "#This is a collection of exercises that have been collected in the numpy mailing list, on stack overflow\n",
    "#and in the numpy documentation. The goal of this collection is to offer a quick reference for both old\n",
    "#and new users but also to provide a set of exercises for those who teach.\n",
    "\n",
    "\n",
    "#If you find an error or think you've a better way to solve some of them, feel\n",
    "#free to open an issue at <https://github.com/rougier/numpy-100>.\n",
    "#File automatically generated. See the documentation to update questions/answers/hints programmatically.\n",
    "\n",
    "#### 1. Import the numpy package under the name `np` (★☆☆)\n",
    "#hint: import … as`05093\n",
    "import numpy as np\n",
    "\n",
    "\n",
    "#### 2. Create a null vector of size 10 (★☆☆)\n",
    "#hint: np.zeros`\n",
    "np.zeros(10)"
   ]
  },
  {
   "cell_type": "code",
   "execution_count": 156,
   "id": "79a853d1",
   "metadata": {},
   "outputs": [
    {
     "ename": "TypeError",
     "evalue": "'numpy.ndarray' object is not callable",
     "output_type": "error",
     "traceback": [
      "\u001b[1;31m---------------------------------------------------------------------------\u001b[0m",
      "\u001b[1;31mTypeError\u001b[0m                                 Traceback (most recent call last)",
      "Input \u001b[1;32mIn [156]\u001b[0m, in \u001b[0;36m<cell line: 5>\u001b[1;34m()\u001b[0m\n\u001b[0;32m      3\u001b[0m a\u001b[38;5;241m=\u001b[39m np\u001b[38;5;241m.\u001b[39mzeros(\u001b[38;5;241m10\u001b[39m)\n\u001b[0;32m      4\u001b[0m a[\u001b[38;5;241m5\u001b[39m]\u001b[38;5;241m=\u001b[39m\u001b[38;5;241m1\u001b[39m\n\u001b[1;32m----> 5\u001b[0m \u001b[38;5;28;43mprint\u001b[39;49m\u001b[43m(\u001b[49m\u001b[43ma\u001b[49m\u001b[43m)\u001b[49m\n",
      "\u001b[1;31mTypeError\u001b[0m: 'numpy.ndarray' object is not callable"
     ]
    }
   ],
   "source": [
    "#### 3. Create a null vector of size 10 but the fifth value which is 1 (★☆☆)\n",
    "#hint: array[4]`\n",
    "a= np.zeros(10)\n",
    "a[5]=1\n",
    "print(a)"
   ]
  },
  {
   "cell_type": "code",
   "execution_count": 150,
   "id": "c05dd5b1",
   "metadata": {},
   "outputs": [
    {
     "ename": "TypeError",
     "evalue": "'numpy.ndarray' object is not callable",
     "output_type": "error",
     "traceback": [
      "\u001b[1;31m---------------------------------------------------------------------------\u001b[0m",
      "\u001b[1;31mTypeError\u001b[0m                                 Traceback (most recent call last)",
      "Input \u001b[1;32mIn [150]\u001b[0m, in \u001b[0;36m<cell line: 4>\u001b[1;34m()\u001b[0m\n\u001b[0;32m      1\u001b[0m \u001b[38;5;66;03m#### 4. Create a vector with values ranging from 10 to 49 (★☆☆)\u001b[39;00m\n\u001b[0;32m      2\u001b[0m \u001b[38;5;66;03m#hint: arange`\u001b[39;00m\n\u001b[0;32m      3\u001b[0m b\u001b[38;5;241m=\u001b[39m np\u001b[38;5;241m.\u001b[39marange(\u001b[38;5;241m10\u001b[39m, \u001b[38;5;241m50\u001b[39m)\n\u001b[1;32m----> 4\u001b[0m \u001b[38;5;28;43mprint\u001b[39;49m\u001b[43m(\u001b[49m\u001b[43mb\u001b[49m\u001b[43m,\u001b[49m\u001b[43m \u001b[49m\u001b[38;5;124;43m\"\u001b[39;49m\u001b[38;5;130;43;01m\\n\u001b[39;49;00m\u001b[38;5;124;43m\"\u001b[39;49m\u001b[43m)\u001b[49m\n",
      "\u001b[1;31mTypeError\u001b[0m: 'numpy.ndarray' object is not callable"
     ]
    }
   ],
   "source": [
    "#### 4. Create a vector with values ranging from 10 to 49 (★☆☆)\n",
    "#hint: arange`\n",
    "b= np.arange(10, 50)\n",
    "print(b, \"\\n\")"
   ]
  },
  {
   "cell_type": "code",
   "execution_count": 133,
   "id": "41de3f2f",
   "metadata": {},
   "outputs": [
    {
     "ename": "TypeError",
     "evalue": "'numpy.ndarray' object is not callable",
     "output_type": "error",
     "traceback": [
      "\u001b[1;31m---------------------------------------------------------------------------\u001b[0m",
      "\u001b[1;31mTypeError\u001b[0m                                 Traceback (most recent call last)",
      "Input \u001b[1;32mIn [133]\u001b[0m, in \u001b[0;36m<cell line: 4>\u001b[1;34m()\u001b[0m\n\u001b[0;32m      1\u001b[0m \u001b[38;5;66;03m#### 5. Create a 3x3 matrix with values ranging from 0 to 8 (★☆☆)\u001b[39;00m\n\u001b[0;32m      2\u001b[0m \u001b[38;5;66;03m#hint: reshape`\u001b[39;00m\n\u001b[0;32m      3\u001b[0m c\u001b[38;5;241m=\u001b[39m np\u001b[38;5;241m.\u001b[39marange(\u001b[38;5;241m0\u001b[39m, \u001b[38;5;241m9\u001b[39m)\u001b[38;5;241m.\u001b[39mreshape((\u001b[38;5;241m3\u001b[39m, \u001b[38;5;241m3\u001b[39m))\n\u001b[1;32m----> 4\u001b[0m \u001b[38;5;28;43mprint\u001b[39;49m\u001b[43m(\u001b[49m\u001b[43mc\u001b[49m\u001b[43m,\u001b[49m\u001b[43m \u001b[49m\u001b[38;5;124;43m\"\u001b[39;49m\u001b[38;5;130;43;01m\\n\u001b[39;49;00m\u001b[38;5;124;43m\"\u001b[39;49m\u001b[43m)\u001b[49m\n",
      "\u001b[1;31mTypeError\u001b[0m: 'numpy.ndarray' object is not callable"
     ]
    }
   ],
   "source": [
    "#### 5. Create a 3x3 matrix with values ranging from 0 to 8 (★☆☆)\n",
    "#hint: reshape`\n",
    "c= np.arange(0, 9).reshape((3, 3))\n",
    "print(c, \"\\n\")"
   ]
  },
  {
   "cell_type": "code",
   "execution_count": null,
   "id": "8722cc46",
   "metadata": {},
   "outputs": [],
   "source": [
    "#### 6. Find indices of non-zero elements from [1,2,0,0,4,0] (★☆☆)\n",
    "#hint: np.nonzero`\n",
    "d= [1,2,0,0,4,0]\n",
    "print(np.nonzero(d), \"\\n\")"
   ]
  },
  {
   "cell_type": "code",
   "execution_count": null,
   "id": "60a727b6",
   "metadata": {},
   "outputs": [],
   "source": []
  },
  {
   "cell_type": "code",
   "execution_count": null,
   "id": "f9bdf0bb",
   "metadata": {},
   "outputs": [],
   "source": []
  },
  {
   "cell_type": "code",
   "execution_count": 129,
   "id": "b869ded5",
   "metadata": {},
   "outputs": [
    {
     "ename": "TypeError",
     "evalue": "'numpy.ndarray' object is not callable",
     "output_type": "error",
     "traceback": [
      "\u001b[1;31m---------------------------------------------------------------------------\u001b[0m",
      "\u001b[1;31mTypeError\u001b[0m                                 Traceback (most recent call last)",
      "Input \u001b[1;32mIn [129]\u001b[0m, in \u001b[0;36m<cell line: 5>\u001b[1;34m()\u001b[0m\n\u001b[0;32m      3\u001b[0m a\u001b[38;5;241m=\u001b[39m np\u001b[38;5;241m.\u001b[39mzeros(\u001b[38;5;241m10\u001b[39m)\n\u001b[0;32m      4\u001b[0m a[\u001b[38;5;241m5\u001b[39m]\u001b[38;5;241m=\u001b[39m\u001b[38;5;241m1\u001b[39m\n\u001b[1;32m----> 5\u001b[0m \u001b[38;5;28;43mprint\u001b[39;49m\u001b[43m(\u001b[49m\u001b[43ma\u001b[49m\u001b[43m,\u001b[49m\u001b[43m \u001b[49m\u001b[38;5;124;43m\"\u001b[39;49m\u001b[38;5;130;43;01m\\n\u001b[39;49;00m\u001b[38;5;124;43m\"\u001b[39;49m\u001b[43m)\u001b[49m\n\u001b[0;32m      7\u001b[0m \u001b[38;5;66;03m#### 4. Create a vector with values ranging from 10 to 49 (★☆☆)\u001b[39;00m\n\u001b[0;32m      8\u001b[0m \u001b[38;5;66;03m#hint: arange`\u001b[39;00m\n\u001b[0;32m      9\u001b[0m b\u001b[38;5;241m=\u001b[39m np\u001b[38;5;241m.\u001b[39marange(\u001b[38;5;241m10\u001b[39m, \u001b[38;5;241m50\u001b[39m)\n",
      "\u001b[1;31mTypeError\u001b[0m: 'numpy.ndarray' object is not callable"
     ]
    }
   ],
   "source": [
    "\n",
    "\n",
    "\n",
    "\n",
    "\n",
    "\n",
    "\n",
    "\n",
    "\n",
    "\n",
    "#### 7. Create a 3x3 identity matrix (★☆☆)\n",
    "#hint: np.eye`\n",
    "e= np.eye(3, 3)\n",
    "print(e, \"\\n\")\n",
    "\n",
    "#### 8. Create a 3x3x3 array with random values (★☆☆)\n",
    "#hint: np.random.random`\n",
    "f=np.random.random((3,3,3))\n",
    "print(f, \"\\n\")\n",
    "\n",
    "#### 9. Create a 10x10 array with random values and find the minimum and maximum values (★☆☆)\n",
    "#hint: min, max`\n",
    "g=np.arange(0, 100).reshape((10, 10))\n",
    "print(g, 'min is: ' + str(np.min(g)), 'max is: ' + str(np.max(g)), \"\\n\")\n",
    "\n",
    "#### 10. Create a random vector of size 30 and find the mean value (★☆☆)\n",
    "#hint: mean`\n",
    "h= np.arange(0, 30)\n",
    "print(h)\n",
    "print(np.mean(h), \"\\n\")\n",
    "\n",
    "#### 11. Create a 5x5 matrix with values 1,2,3,4 just below the diagonal (★☆☆)\n",
    "#hint: np.diag`\n",
    "print(np.diagflat([1,2,3,4], -1), \"\\n\")\n",
    "\n",
    "#### 12. Normalize a 5x5 random matrix (★☆☆)\n",
    "#hint: (x -mean)/std`\n",
    "j=np.random.normal(0, 1, (3, 3))\n",
    "print(j, \"\\n\")\n",
    "\n",
    "#### 13. How to find common values between two arrays? (★☆☆)\n",
    "#hint: np.intersect1d`\n",
    "k=np.arange(0, 9).reshape((3, 3))\n",
    "l=np.arange(5, 14).reshape((3, 3))\n",
    "kl= np.intersect1d(k, l)\n",
    "print(kl, \"\\n\")\n",
    "\n",
    "#### 14. Create a random vector of size 10 and sort it (★★☆)\n",
    "#hint: sort`\n",
    "m= np.arange(10, 20)\n",
    "print(np.sort(m), \"\\n\")\n",
    "\n",
    "#### 15. Create random vector of size 10 and replace the maximum value by 0 (★★☆)\n",
    "#hint: argmax`\n",
    "n= np.arange(10, 20)\n",
    "n[n == np.max(n)] = 0\n",
    "print(n, \"\\n\")\n",
    "\n",
    "#### 16. Subtract the mean of each row of a matrix (★★☆)\n",
    "#hint: mean(axis=,keepdims=)`\n",
    "o=np.random.normal(0, 1, (3, 3))\n",
    "print(o)\n",
    "#o= o - o.mean(axis=1, keepdims=True)\n",
    "#print(o,\"\\n\")\n",
    "\n",
    "#### 17. How to get the n largest values of an array (★★★)\n",
    "#Z = np.arange(10000)\n",
    "#np.random.shuffle(Z)\n",
    "#nn = 5\n",
    "#print(Z)\n",
    "#hint: np.argsort | np.argpartition`\n",
    "\n",
    "#### 18. Create a random 5*3 matrix and replace items that are larger than 4 by their squares ( Example:  6 --> 36) \n",
    "#hint: np.where`\n",
    "#t=np.arange(0, 15)\n",
    "#np.random.shuffle(t)\n",
    "#t.reshape((5, 3))\n",
    "#x= np.where(n == np.max(n))\n"
   ]
  },
  {
   "cell_type": "code",
   "execution_count": null,
   "id": "e589fafe",
   "metadata": {},
   "outputs": [],
   "source": []
  }
 ],
 "metadata": {
  "kernelspec": {
   "display_name": "Python 3 (ipykernel)",
   "language": "python",
   "name": "python3"
  },
  "language_info": {
   "codemirror_mode": {
    "name": "ipython",
    "version": 3
   },
   "file_extension": ".py",
   "mimetype": "text/x-python",
   "name": "python",
   "nbconvert_exporter": "python",
   "pygments_lexer": "ipython3",
   "version": "3.9.12"
  }
 },
 "nbformat": 4,
 "nbformat_minor": 5
}
