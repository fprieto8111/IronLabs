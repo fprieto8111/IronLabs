{
 "cells": [
  {
   "cell_type": "code",
   "execution_count": 1,
   "id": "05d9bdde",
   "metadata": {},
   "outputs": [
    {
     "data": {
      "text/plain": [
       "array([0., 0., 0., 0., 0., 0., 0., 0., 0., 0.])"
      ]
     },
     "execution_count": 1,
     "metadata": {},
     "output_type": "execute_result"
    }
   ],
   "source": [
    "#This is a collection of exercises that have been collected in the numpy mailing list, on stack overflow\n",
    "#and in the numpy documentation. The goal of this collection is to offer a quick reference for both old\n",
    "#and new users but also to provide a set of exercises for those who teach.\n",
    "\n",
    "\n",
    "#If you find an error or think you've a better way to solve some of them, feel\n",
    "#free to open an issue at <https://github.com/rougier/numpy-100>.\n",
    "#File automatically generated. See the documentation to update questions/answers/hints programmatically.\n",
    "\n",
    "#### 1. Import the numpy package under the name `np` (★☆☆)\n",
    "#hint: import … as`05093\n",
    "import numpy as np\n",
    "\n",
    "\n",
    "#### 2. Create a null vector of size 10 (★☆☆)\n",
    "#hint: np.zeros`\n",
    "np.zeros(10)"
   ]
  },
  {
   "cell_type": "code",
   "execution_count": 2,
   "id": "79a853d1",
   "metadata": {},
   "outputs": [
    {
     "name": "stdout",
     "output_type": "stream",
     "text": [
      "[0. 0. 0. 0. 0. 1. 0. 0. 0. 0.]\n"
     ]
    }
   ],
   "source": [
    "#### 3. Create a null vector of size 10 but the fifth value which is 1 (★☆☆)\n",
    "#hint: array[4]`\n",
    "a= np.zeros(10)\n",
    "a[5]=1\n",
    "print(a)"
   ]
  },
  {
   "cell_type": "code",
   "execution_count": 3,
   "id": "c05dd5b1",
   "metadata": {},
   "outputs": [
    {
     "name": "stdout",
     "output_type": "stream",
     "text": [
      "[10 11 12 13 14 15 16 17 18 19 20 21 22 23 24 25 26 27 28 29 30 31 32 33\n",
      " 34 35 36 37 38 39 40 41 42 43 44 45 46 47 48 49] \n",
      "\n"
     ]
    }
   ],
   "source": [
    "#### 4. Create a vector with values ranging from 10 to 49 (★☆☆)\n",
    "#hint: arange`\n",
    "b= np.arange(10, 50)\n",
    "print(b, \"\\n\")"
   ]
  },
  {
   "cell_type": "code",
   "execution_count": 4,
   "id": "41de3f2f",
   "metadata": {},
   "outputs": [
    {
     "name": "stdout",
     "output_type": "stream",
     "text": [
      "[[0 1 2]\n",
      " [3 4 5]\n",
      " [6 7 8]] \n",
      "\n"
     ]
    }
   ],
   "source": [
    "#### 5. Create a 3x3 matrix with values ranging from 0 to 8 (★☆☆)\n",
    "#hint: reshape`\n",
    "c= np.arange(0, 9).reshape((3, 3))\n",
    "print(c, \"\\n\")"
   ]
  },
  {
   "cell_type": "code",
   "execution_count": 5,
   "id": "8722cc46",
   "metadata": {},
   "outputs": [
    {
     "name": "stdout",
     "output_type": "stream",
     "text": [
      "(array([0, 1, 4], dtype=int64),) \n",
      "\n"
     ]
    }
   ],
   "source": [
    "#### 6. Find indices of non-zero elements from [1,2,0,0,4,0] (★☆☆)\n",
    "#hint: np.nonzero`\n",
    "d= [1,2,0,0,4,0]\n",
    "print(np.nonzero(d), \"\\n\")"
   ]
  },
  {
   "cell_type": "code",
   "execution_count": 6,
   "id": "b564e0bc",
   "metadata": {},
   "outputs": [
    {
     "name": "stdout",
     "output_type": "stream",
     "text": [
      "[[1. 0. 0.]\n",
      " [0. 1. 0.]\n",
      " [0. 0. 1.]] \n",
      "\n"
     ]
    }
   ],
   "source": [
    "#### 7. Create a 3x3 identity matrix (★☆☆)\n",
    "#hint: np.eye`\n",
    "e= np.eye(3, 3)\n",
    "print(e, \"\\n\")"
   ]
  },
  {
   "cell_type": "code",
   "execution_count": 7,
   "id": "757109a5",
   "metadata": {},
   "outputs": [
    {
     "name": "stdout",
     "output_type": "stream",
     "text": [
      "[[[0.22988679 0.92739354 0.70751463]\n",
      "  [0.50529982 0.82602683 0.39468587]\n",
      "  [0.59758522 0.39509732 0.32171225]]\n",
      "\n",
      " [[0.9175826  0.79409245 0.94917681]\n",
      "  [0.90365042 0.87487049 0.65559372]\n",
      "  [0.91980977 0.4876296  0.52802147]]\n",
      "\n",
      " [[0.01592274 0.1158518  0.84039352]\n",
      "  [0.39802422 0.21278037 0.11839757]\n",
      "  [0.88075125 0.9262001  0.12935843]]] \n",
      "\n"
     ]
    }
   ],
   "source": [
    "#### 8. Create a 3x3x3 array with random values (★☆☆)\n",
    "#hint: np.random.random`\n",
    "f=np.random.random((3,3,3))\n",
    "print(f, \"\\n\")"
   ]
  },
  {
   "cell_type": "code",
   "execution_count": 8,
   "id": "cd6d5c31",
   "metadata": {},
   "outputs": [
    {
     "name": "stdout",
     "output_type": "stream",
     "text": [
      "[[ 0  1  2  3  4  5  6  7  8  9]\n",
      " [10 11 12 13 14 15 16 17 18 19]\n",
      " [20 21 22 23 24 25 26 27 28 29]\n",
      " [30 31 32 33 34 35 36 37 38 39]\n",
      " [40 41 42 43 44 45 46 47 48 49]\n",
      " [50 51 52 53 54 55 56 57 58 59]\n",
      " [60 61 62 63 64 65 66 67 68 69]\n",
      " [70 71 72 73 74 75 76 77 78 79]\n",
      " [80 81 82 83 84 85 86 87 88 89]\n",
      " [90 91 92 93 94 95 96 97 98 99]] min is: 0 max is: 99 \n",
      "\n"
     ]
    }
   ],
   "source": [
    "#### 9. Create a 10x10 array with random values and find the minimum and maximum values (★☆☆)\n",
    "#hint: min, max`\n",
    "g=np.arange(0, 100).reshape((10, 10))\n",
    "print(g, 'min is: ' + str(np.min(g)), 'max is: ' + str(np.max(g)), \"\\n\")"
   ]
  },
  {
   "cell_type": "code",
   "execution_count": 9,
   "id": "5a385d93",
   "metadata": {},
   "outputs": [
    {
     "name": "stdout",
     "output_type": "stream",
     "text": [
      "[ 0  1  2  3  4  5  6  7  8  9 10 11 12 13 14 15 16 17 18 19 20 21 22 23\n",
      " 24 25 26 27 28 29]\n",
      "14.5 \n",
      "\n"
     ]
    }
   ],
   "source": [
    "#### 10. Create a random vector of size 30 and find the mean value (★☆☆)\n",
    "#hint: mean`\n",
    "h= np.arange(0, 30)\n",
    "print(h)\n",
    "print(np.mean(h), \"\\n\")"
   ]
  },
  {
   "cell_type": "code",
   "execution_count": 11,
   "id": "a6c8ee50",
   "metadata": {},
   "outputs": [
    {
     "name": "stdout",
     "output_type": "stream",
     "text": [
      "[[0 0 0 0 0]\n",
      " [1 0 0 0 0]\n",
      " [0 2 0 0 0]\n",
      " [0 0 3 0 0]\n",
      " [0 0 0 4 0]] \n",
      "\n"
     ]
    }
   ],
   "source": [
    "#### 11. Create a 5x5 matrix with values 1,2,3,4 just below the diagonal (★☆☆)\n",
    "#hint: np.diag`\n",
    "print(np.diagflat([1,2,3,4], -1), \"\\n\")"
   ]
  },
  {
   "cell_type": "code",
   "execution_count": 13,
   "id": "42ef140d",
   "metadata": {},
   "outputs": [
    {
     "name": "stdout",
     "output_type": "stream",
     "text": [
      "[[-0.2003333  -0.32454375 -0.67476325]\n",
      " [-1.84550339  1.90772441  0.10996429]\n",
      " [ 1.77041586 -0.60037695  0.41818622]] \n",
      "\n"
     ]
    }
   ],
   "source": [
    "#### 12. Normalize a 5x5 random matrix (★☆☆)\n",
    "#hint: (x -mean)/std`\n",
    "j=np.random.normal(0, 1, (3, 3))\n",
    "print(j, \"\\n\")"
   ]
  },
  {
   "cell_type": "code",
   "execution_count": 12,
   "id": "5a71498a",
   "metadata": {},
   "outputs": [
    {
     "name": "stdout",
     "output_type": "stream",
     "text": [
      "[5 6 7 8] \n",
      "\n"
     ]
    }
   ],
   "source": [
    "#### 13. How to find common values between two arrays? (★☆☆)\n",
    "#hint: np.intersect1d`\n",
    "k=np.arange(0, 9).reshape((3, 3))\n",
    "l=np.arange(5, 14).reshape((3, 3))\n",
    "kl= np.intersect1d(k, l)\n",
    "print(kl, \"\\n\")"
   ]
  },
  {
   "cell_type": "code",
   "execution_count": 14,
   "id": "6a158a1b",
   "metadata": {},
   "outputs": [
    {
     "name": "stdout",
     "output_type": "stream",
     "text": [
      "[10 11 12 13 14 15 16 17 18 19] \n",
      "\n"
     ]
    }
   ],
   "source": [
    "#### 14. Create a random vector of size 10 and sort it (★★☆)\n",
    "#hint: sort`\n",
    "m= np.arange(10, 20)\n",
    "print(np.sort(m), \"\\n\")"
   ]
  },
  {
   "cell_type": "code",
   "execution_count": 15,
   "id": "c1928034",
   "metadata": {},
   "outputs": [
    {
     "name": "stdout",
     "output_type": "stream",
     "text": [
      "[10 11 12 13 14 15 16 17 18  0] \n",
      "\n"
     ]
    }
   ],
   "source": [
    "#### 15. Create random vector of size 10 and replace the maximum value by 0 (★★☆)\n",
    "#hint: argmax`\n",
    "n= np.arange(10, 20)\n",
    "n[n == np.max(n)] = 0\n",
    "print(n, \"\\n\")"
   ]
  },
  {
   "cell_type": "code",
   "execution_count": 16,
   "id": "942dfec8",
   "metadata": {},
   "outputs": [
    {
     "name": "stdout",
     "output_type": "stream",
     "text": [
      "[[ 1.41655854  0.46189569 -0.30474901]\n",
      " [ 0.4188393  -2.64010219 -0.55683824]\n",
      " [-0.05843373  0.48027594  0.70124049]]\n"
     ]
    }
   ],
   "source": [
    "#### 16. Subtract the mean of each row of a matrix (★★☆)\n",
    "#hint: mean(axis=,keepdims=)`\n",
    "o=np.random.normal(0, 1, (3, 3))\n",
    "print(o)\n",
    "#o= o - o.mean(axis=1, keepdims=True)\n",
    "#print(o,\"\\n\")"
   ]
  },
  {
   "cell_type": "code",
   "execution_count": null,
   "id": "6197e9da",
   "metadata": {},
   "outputs": [],
   "source": [
    "#### 17. How to get the n largest values of an array (★★★)\n",
    "#Z = np.arange(10000)\n",
    "#np.random.shuffle(Z)\n",
    "#nn = 5\n",
    "#print(Z)\n",
    "#hint: np.argsort | np.argpartition`"
   ]
  },
  {
   "cell_type": "code",
   "execution_count": 18,
   "id": "b869ded5",
   "metadata": {},
   "outputs": [
    {
     "name": "stdout",
     "output_type": "stream",
     "text": [
      "(array([8], dtype=int64),)\n"
     ]
    }
   ],
   "source": [
    "#### 18. Create a random 5*3 matrix and replace items that are larger than 4 by their squares ( Example:  6 --> 36) \n",
    "#hint: np.where`\n",
    "t=np.arange(0, 15)\n",
    "np.random.shuffle(t)\n",
    "t.reshape((5, 3))\n",
    "x= np.where(n == np.max(n))\n",
    "print(x)"
   ]
  },
  {
   "cell_type": "code",
   "execution_count": null,
   "id": "5bec0bf5",
   "metadata": {},
   "outputs": [],
   "source": []
  }
 ],
 "metadata": {
  "kernelspec": {
   "display_name": "Python 3 (ipykernel)",
   "language": "python",
   "name": "python3"
  },
  "language_info": {
   "codemirror_mode": {
    "name": "ipython",
    "version": 3
   },
   "file_extension": ".py",
   "mimetype": "text/x-python",
   "name": "python",
   "nbconvert_exporter": "python",
   "pygments_lexer": "ipython3",
   "version": "3.9.12"
  }
 },
 "nbformat": 4,
 "nbformat_minor": 5
}
